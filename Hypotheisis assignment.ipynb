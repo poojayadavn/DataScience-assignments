{
 "cells": [
  {
   "cell_type": "markdown",
   "id": "6d307ca7",
   "metadata": {},
   "source": [
    "A F&B manager wants to determine whether there is any significant difference in the diameter of the cutlet between two units. A randomly selected sample of cutlets was collected from both units and measured? Analyze the data and draw inferences at 5% significance level. Please state the assumptions and tests that you carried out to check validity of the assumptions."
   ]
  },
  {
   "cell_type": "code",
   "execution_count": 2,
   "id": "833e46f4",
   "metadata": {},
   "outputs": [
    {
     "name": "stdout",
     "output_type": "stream",
     "text": [
      "Shapiro-Wilk p-values:\n",
      "Unit A: 0.31998491287231445\n",
      "Unit B: 0.5225146412849426\n",
      "\n",
      "Levene's Test p-value: 0.4176162212502553\n",
      "\n",
      "Two-Sample t-test results:\n",
      "t-statistic: 0.7228688704678063\n",
      "p-value: 0.4722394724599501\n",
      "\n",
      "Fail to reject the null hypothesis. There is no significant difference in the mean diameter of cutlets between Unit A and Unit B.\n"
     ]
    }
   ],
   "source": [
    "# Importing necessary libraries\n",
    "import pandas as pd\n",
    "import scipy.stats as stats\n",
    "\n",
    "# Loading the data\n",
    "data = pd.read_csv('Cutlets.csv')\n",
    "\n",
    "# Separating data for Unit A and Unit B\n",
    "unit_A = data['Unit A']\n",
    "unit_B = data['Unit B']\n",
    "\n",
    "# Normality (Shapiro-Wilk Test)\n",
    "_, p_value_A = stats.shapiro(unit_A)\n",
    "_, p_value_B = stats.shapiro(unit_B)\n",
    "\n",
    "print(\"Shapiro-Wilk p-values:\")\n",
    "print(\"Unit A:\", p_value_A)\n",
    "print(\"Unit B:\", p_value_B)\n",
    "\n",
    "#  Equality of Variances (Levene's Test)\n",
    "_, p_value_levene = stats.levene(unit_A, unit_B)\n",
    "\n",
    "print(\"\\nLevene's Test p-value:\", p_value_levene)\n",
    "\n",
    "# Two-Sample t-test assuming equal variances (since p_value_levene > 0.05)\n",
    "t_stat, p_value_ttest = stats.ttest_ind(unit_A, unit_B)\n",
    "\n",
    "print(\"\\nTwo-Sample t-test results:\")\n",
    "print(\"t-statistic:\", t_stat)\n",
    "print(\"p-value:\", p_value_ttest)\n",
    "\n",
    "# Interpreting the results\n",
    "alpha = 0.05\n",
    "if p_value_ttest < alpha:\n",
    "    print(\"\\nReject the null hypothesis. There is a significant difference in the mean diameter of cutlets between Unit A and Unit B.\")\n",
    "else:\n",
    "    print(\"\\nFail to reject the null hypothesis. There is no significant difference in the mean diameter of cutlets between Unit A and Unit B.\")\n"
   ]
  },
  {
   "cell_type": "markdown",
   "id": "bb2090a3",
   "metadata": {},
   "source": [
    "A hospital wants to determine whether there is any difference in the average Turn Around Time (TAT) of reports of the laboratories on their preferred list. They collected a random sample and recorded TAT for reports of 4 laboratories. TAT is defined as sample collected to report dispatch.Analyze the data and determine whether there is any difference in average TAT among the different laboratories at 5% significance level.\n",
    " "
   ]
  },
  {
   "cell_type": "code",
   "execution_count": 4,
   "id": "dd5a8862",
   "metadata": {},
   "outputs": [
    {
     "name": "stdout",
     "output_type": "stream",
     "text": [
      "   Laboratory 1  Laboratory 2  Laboratory 3  Laboratory 4\n",
      "0        185.35        165.53        176.70        166.13\n",
      "1        170.49        185.91        198.45        160.79\n",
      "2        192.77        194.92        201.23        185.18\n",
      "3        177.33        183.00        199.61        176.42\n",
      "4        193.41        169.57        204.63        152.60\n",
      "\n",
      "One-way ANOVA results:\n",
      "F-statistic: 118.70421654401437\n",
      "p-value: 2.1156708949992414e-57\n",
      "\n",
      "Reject the null hypothesis. There is a significant difference in average TAT among the different laboratories.\n"
     ]
    }
   ],
   "source": [
    "import pandas as pd\n",
    "import scipy.stats as stats\n",
    "\n",
    "\n",
    "data = pd.read_csv('LabTAT.csv')\n",
    "\n",
    "\n",
    "print(data.head())\n",
    "\n",
    "# one-way ANOVA\n",
    "f_statistic, p_value = stats.f_oneway(data['Laboratory 1'], data['Laboratory 2'], data['Laboratory 3'], data['Laboratory 4'])\n",
    "\n",
    "# results\n",
    "print(\"\\nOne-way ANOVA results:\")\n",
    "print(\"F-statistic:\", f_statistic)\n",
    "print(\"p-value:\", p_value)\n",
    "\n",
    "\n",
    "alpha = 0.05\n",
    "\n",
    "if p_value < alpha:\n",
    "    print(\"\\nReject the null hypothesis. There is a significant difference in average TAT among the different laboratories.\")\n",
    "else:\n",
    "    print(\"\\nFail to reject the null hypothesis. There is no significant difference in average TAT among the different laboratories.\")\n"
   ]
  },
  {
   "cell_type": "markdown",
   "id": "58748a79",
   "metadata": {},
   "source": [
    "Sales of products in four different regions is tabulated for males and females. Find if male-female buyer rations are similar across regions."
   ]
  },
  {
   "cell_type": "code",
   "execution_count": 9,
   "id": "511aafcf",
   "metadata": {},
   "outputs": [
    {
     "name": "stdout",
     "output_type": "stream",
     "text": [
      "\n",
      "Chi-squared test results:\n",
      "Chi-squared statistic: 1.595945538661058\n",
      "p-value: 0.6603094907091882\n",
      "\n",
      "Fail to reject the null hypothesis. Male-female buyer ratios are similar across regions.\n"
     ]
    }
   ],
   "source": [
    "import scipy.stats as stats\n",
    "\n",
    "\n",
    "observed_values = [[50, 142, 131, 70],\n",
    "                   [435, 1523, 1356, 750]]\n",
    "\n",
    "#Chi-squared test for independence\n",
    "chi2_stat, p_value, _, _ = stats.chi2_contingency(observed_values)\n",
    "\n",
    "# results\n",
    "print(\"\\nChi-squared test results:\")\n",
    "print(\"Chi-squared statistic:\", chi2_stat)\n",
    "print(\"p-value:\", p_value)\n",
    "\n",
    "#results\n",
    "alpha = 0.05\n",
    "\n",
    "if p_value < alpha:\n",
    "    print(\"\\nReject the null hypothesis. Male-female buyer ratios are not similar across regions.\")\n",
    "else:\n",
    "    print(\"\\nFail to reject the null hypothesis. Male-female buyer ratios are similar across regions.\")\n"
   ]
  },
  {
   "cell_type": "markdown",
   "id": "c7064db4",
   "metadata": {},
   "source": [
    "TeleCall uses 4 centers around the globe to process customer order forms. They audit a certain %  of the customer order forms. Any error in order form renders it defective and has to be reworked before processing.  The manager wants to check whether the defective %  varies by centre. Please analyze the data at 5% significance level and help the manager draw appropriate inferences\n"
   ]
  },
  {
   "cell_type": "code",
   "execution_count": 19,
   "id": "9317d57f",
   "metadata": {},
   "outputs": [
    {
     "name": "stdout",
     "output_type": "stream",
     "text": [
      "  Phillippines   Indonesia       Malta       India\n",
      "0   Error Free  Error Free   Defective  Error Free\n",
      "1   Error Free  Error Free  Error Free   Defective\n",
      "2   Error Free   Defective   Defective  Error Free\n",
      "3   Error Free  Error Free  Error Free  Error Free\n",
      "4   Error Free  Error Free   Defective  Error Free\n",
      "\n",
      "Chi-squared test results:\n",
      "Chi-squared statistic: 3.1001395592512266\n",
      "p-value: 0.6845505149379718\n",
      "\n",
      "Fail to reject the null hypothesis. There is no significant association between the center and the defectiveness of order forms.\n"
     ]
    }
   ],
   "source": [
    "import pandas as pd\n",
    "import scipy.stats as stats\n",
    "\n",
    "data = pd.read_csv('CustomerOrderForm.csv')\n",
    "\n",
    "\n",
    "print(data.head())\n",
    "\n",
    "#contingency table\n",
    "contingency_table = pd.crosstab(data['Phillippines'], [data['Indonesia'], data['Malta'], data['India']])\n",
    "\n",
    "# Chi-squared test for independence\n",
    "chi2_stat, p_value, _, _ = stats.chi2_contingency(contingency_table)\n",
    "\n",
    "# results\n",
    "print(\"\\nChi-squared test results:\")\n",
    "print(\"Chi-squared statistic:\", chi2_stat)\n",
    "print(\"p-value:\", p_value)\n",
    "\n",
    "# Interpreting the results\n",
    "alpha = 0.05\n",
    "\n",
    "if p_value < alpha:\n",
    "    print(\"\\nReject the null hypothesis. There is a significant association between the center and the defectiveness of order forms.\")\n",
    "else:\n",
    "    print(\"\\nFail to reject the null hypothesis. There is no significant association between the center and the defectiveness of order forms.\")\n"
   ]
  },
  {
   "cell_type": "markdown",
   "id": "10922fda",
   "metadata": {},
   "source": [
    "Inferences based on result:\n",
    "No Significant Difference: There is no statistically significant difference in the defectiveness of order forms among the centers (Phillippines, Indonesia, Malta, and India).\n",
    "\n",
    "Consistency Across Centers: The order form processing appears to be consistent across all centers, ensuring a similar level of order form quality for customers.\n",
    "\n",
    "Process Improvement: Since no specific center was identified as problematic, the focus should be on overall process improvement rather than singling out specific centers.\n",
    "\n",
    "Continuous Monitoring: Ongoing monitoring of order form quality at each center is crucial to maintaining consistent quality standards over time.\n",
    "\n",
    "Sample Size Consideration: Ensure that the sample size for each center is representative of actual order volume for more robust conclusions in the future."
   ]
  }
 ],
 "metadata": {
  "kernelspec": {
   "display_name": "Python 3 (ipykernel)",
   "language": "python",
   "name": "python3"
  },
  "language_info": {
   "codemirror_mode": {
    "name": "ipython",
    "version": 3
   },
   "file_extension": ".py",
   "mimetype": "text/x-python",
   "name": "python",
   "nbconvert_exporter": "python",
   "pygments_lexer": "ipython3",
   "version": "3.10.9"
  }
 },
 "nbformat": 4,
 "nbformat_minor": 5
}
