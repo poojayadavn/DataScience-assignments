{
 "cells": [
  {
   "cell_type": "markdown",
   "id": "444d2b3c",
   "metadata": {},
   "source": [
    "Problem statement.\n",
    "\n",
    "Build a recommender system by using cosine simillarties score.\n"
   ]
  },
  {
   "cell_type": "code",
   "execution_count": 4,
   "id": "f5194764",
   "metadata": {},
   "outputs": [
    {
     "name": "stdout",
     "output_type": "stream",
     "text": [
      "   Unnamed: 0  User.ID                                         Book.Title  \\\n",
      "0           1   276726                                Classical Mythology   \n",
      "1           2   276729                                       Clara Callan   \n",
      "2           3   276729                               Decision in Normandy   \n",
      "3           4   276736  Flu: The Story of the Great Influenza Pandemic...   \n",
      "4           5   276737                             The Mummies of Urumchi   \n",
      "\n",
      "   Book.Rating  \n",
      "0            5  \n",
      "1            3  \n",
      "2            6  \n",
      "3            8  \n",
      "4            6  \n",
      "Recommended Books for 'Classical Mythology': ['Mythology 101 (Questar Fantasy)', \"Celtic Mythology (Library of the World's Myths and Legends)\", 'Clara Callan', 'Decision in Normandy', 'Flu: The Story of the Great Influenza Pandemic of 1918 and the Search for the Virus That Caused It']\n"
     ]
    }
   ],
   "source": [
    "import pandas as pd\n",
    "from sklearn.feature_extraction.text import CountVectorizer\n",
    "from sklearn.metrics.pairwise import cosine_similarity\n",
    "\n",
    "book_df = pd.read_csv('bookk.csv', encoding='ISO-8859-1')\n",
    "\n",
    "\n",
    "print(book_df.head())\n",
    "\n",
    "book_df['Description'] = book_df['Book.Title'] \n",
    "\n",
    "#CountVectorizer to convert book descriptions into a matrix of token counts\n",
    "vectorizer = CountVectorizer(stop_words='english')\n",
    "matrix = vectorizer.fit_transform(book_df['Description'])\n",
    "\n",
    "# Calculating the cosine similarity matrix\n",
    "cosine_sim = cosine_similarity(matrix, matrix)\n",
    "\n",
    "# Function to get book recommendations based on cosine similarity\n",
    "def get_book_recommendations(book_title, cosine_sim_matrix, df, top_n=5):\n",
    "    # Get the index of the book\n",
    "    book_index = df[df['Book.Title'] == book_title].index[0]\n",
    "\n",
    "    #cosine similarity scores for the book\n",
    "    similarity_scores = list(enumerate(cosine_sim_matrix[book_index]))\n",
    "\n",
    "    # Sorting the books based on similarity scores\n",
    "    sorted_books = sorted(similarity_scores, key=lambda x: x[1], reverse=True)\n",
    "\n",
    "    #top N similar books\n",
    "    top_books = sorted_books[1:top_n + 1]\n",
    "\n",
    "    # book titles\n",
    "    recommended_books = [df['Book.Title'][i[0]] for i in top_books]\n",
    "\n",
    "    return recommended_books\n",
    "\n",
    "# Getting recommendations for a specific book\n",
    "book_title = 'Classical Mythology'\n",
    "recommendations = get_book_recommendations(book_title, cosine_sim, book_df)\n",
    "print(f\"Recommended Books for '{book_title}': {recommendations}\")\n"
   ]
  }
 ],
 "metadata": {
  "kernelspec": {
   "display_name": "Python 3 (ipykernel)",
   "language": "python",
   "name": "python3"
  },
  "language_info": {
   "codemirror_mode": {
    "name": "ipython",
    "version": 3
   },
   "file_extension": ".py",
   "mimetype": "text/x-python",
   "name": "python",
   "nbconvert_exporter": "python",
   "pygments_lexer": "ipython3",
   "version": "3.10.9"
  }
 },
 "nbformat": 4,
 "nbformat_minor": 5
}
