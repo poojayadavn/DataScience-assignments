{
 "cells": [
  {
   "cell_type": "markdown",
   "id": "bcfc6e82",
   "metadata": {},
   "source": [
    " Prepare a classification model using Naive Bayes \n",
    "for salary data \n",
    "\n",
    "Data Description:\n",
    "\n",
    "age -- age of a person\n",
    "workclass\t-- A work class is a grouping of work \n",
    "education\t-- Education of an individuals\t\n",
    "maritalstatus -- Marital status of an individulas\t\n",
    "occupation\t -- occupation of an individuals\n",
    "relationship -- \t\n",
    "race --  Race of an Individual\n",
    "sex --  Gender of an Individual\n",
    "capitalgain --  profit received from the sale of an investment\t\n",
    "capitalloss\t-- A decrease in the value of a capital asset\n",
    "hoursperweek -- number of hours work per week\t\n",
    "native -- Native of an individual\n",
    "Salary -- salary of an individual "
   ]
  },
  {
   "cell_type": "code",
   "execution_count": 2,
   "id": "4b009d2c",
   "metadata": {},
   "outputs": [
    {
     "name": "stdout",
     "output_type": "stream",
     "text": [
      "Accuracy: 0.79\n",
      "Classification Report:\n",
      "               precision    recall  f1-score   support\n",
      "\n",
      "           0       0.81      0.95      0.87     11360\n",
      "           1       0.67      0.33      0.44      3700\n",
      "\n",
      "    accuracy                           0.79     15060\n",
      "   macro avg       0.74      0.64      0.66     15060\n",
      "weighted avg       0.78      0.79      0.77     15060\n",
      "\n",
      "Confusion Matrix:\n",
      " [[10759   601]\n",
      " [ 2491  1209]]\n"
     ]
    }
   ],
   "source": [
    "import pandas as pd\n",
    "from sklearn.model_selection import train_test_split\n",
    "from sklearn.preprocessing import LabelEncoder\n",
    "from sklearn.naive_bayes import GaussianNB\n",
    "from sklearn.metrics import accuracy_score, classification_report, confusion_matrix\n",
    "\n",
    "\n",
    "train_data = pd.read_csv(\"SalaryData_Train.csv\")\n",
    "test_data = pd.read_csv(\"SalaryData_Test.csv\")\n",
    "\n",
    "\n",
    "combined_data = pd.concat([train_data, test_data], axis=0)\n",
    "\n",
    "\n",
    "combined_data.dropna(inplace=True)\n",
    "\n",
    "# Encoding the categorical variables\n",
    "label_encoder = LabelEncoder()\n",
    "for column in combined_data.columns:\n",
    "    if combined_data[column].dtype == 'object':\n",
    "        combined_data[column] = label_encoder.fit_transform(combined_data[column])\n",
    "\n",
    "# Splitting the data back into train and test sets\n",
    "train_data = combined_data[:train_data.shape[0]]\n",
    "test_data = combined_data[train_data.shape[0]:]\n",
    "\n",
    "# Separating features and target variable\n",
    "X_train = train_data.drop(\"Salary\", axis=1)\n",
    "y_train = train_data[\"Salary\"]\n",
    "X_test = test_data.drop(\"Salary\", axis=1)\n",
    "y_test = test_data[\"Salary\"]\n",
    "\n",
    "# Initializing the Naive Bayes model\n",
    "naive_bayes_model = GaussianNB()\n",
    "\n",
    "# Training the model\n",
    "naive_bayes_model.fit(X_train, y_train)\n",
    "\n",
    "# Predictions on the test set\n",
    "y_pred = naive_bayes_model.predict(X_test)\n",
    "\n",
    "# Calculating accuracy\n",
    "accuracy = accuracy_score(y_test, y_pred)\n",
    "print(f\"Accuracy: {accuracy:.2f}\")\n",
    "\n",
    "# Displaying classification report\n",
    "print(\"Classification Report:\\n\", classification_report(y_test, y_pred))\n",
    "\n",
    "# Displaying confusion matrix\n",
    "print(\"Confusion Matrix:\\n\", confusion_matrix(y_test, y_pred))\n"
   ]
  }
 ],
 "metadata": {
  "kernelspec": {
   "display_name": "Python 3 (ipykernel)",
   "language": "python",
   "name": "python3"
  },
  "language_info": {
   "codemirror_mode": {
    "name": "ipython",
    "version": 3
   },
   "file_extension": ".py",
   "mimetype": "text/x-python",
   "name": "python",
   "nbconvert_exporter": "python",
   "pygments_lexer": "ipython3",
   "version": "3.10.9"
  }
 },
 "nbformat": 4,
 "nbformat_minor": 5
}
